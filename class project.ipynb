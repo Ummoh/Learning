{
 "cells": [
  {
   "cell_type": "markdown",
   "id": "ec4bc53a",
   "metadata": {},
   "source": [
    "# project (sorting)"
   ]
  },
  {
   "cell_type": "code",
   "execution_count": null,
   "id": "006842b4",
   "metadata": {},
   "outputs": [],
   "source": [
    "def sorting():\n",
    "    list_c=[]\n",
    "    list_not_c=[]\n",
    "    words=input(\"enter the list of words\").split(\",\")\n",
    "    for word in words:\n",
    "        if word[0]==\"c\":\n",
    "            list_c.append(word)\n",
    "        else :\n",
    "            list_not_c.append(word)\n",
    "    list_c.sort()\n",
    "    list_not_c.sort()\n",
    "    return list_c + list_not_c\n",
    "sorting()\n",
    "            \n",
    "        "
   ]
  },
  {
   "cell_type": "code",
   "execution_count": null,
   "id": "5068b3ed",
   "metadata": {},
   "outputs": [],
   "source": []
  }
 ],
 "metadata": {
  "kernelspec": {
   "display_name": "Python 3",
   "language": "python",
   "name": "python3"
  },
  "language_info": {
   "codemirror_mode": {
    "name": "ipython",
    "version": 3
   },
   "file_extension": ".py",
   "mimetype": "text/x-python",
   "name": "python",
   "nbconvert_exporter": "python",
   "pygments_lexer": "ipython3",
   "version": "3.8.8"
  }
 },
 "nbformat": 4,
 "nbformat_minor": 5
}
