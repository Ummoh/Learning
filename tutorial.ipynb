{
 "cells": [
  {
   "cell_type": "code",
   "execution_count": 3,
   "id": "fa93888a",
   "metadata": {},
   "outputs": [
    {
     "name": "stdout",
     "output_type": "stream",
     "text": [
      "hello world\n"
     ]
    }
   ],
   "source": [
    " #this is a commenti.e it does'nt show in the code\n",
    "\n",
    "print (\"hello world\")"
   ]
  },
  {
   "cell_type": "code",
   "execution_count": 3,
   "id": "60e2ff55",
   "metadata": {},
   "outputs": [
    {
     "name": "stdout",
     "output_type": "stream",
     "text": [
      "a comment start with a #\n"
     ]
    }
   ],
   "source": [
    " #this is a commenti.e it does'nt show in the code\n",
    "print(\"a comment start with a #\")"
   ]
  },
  {
   "cell_type": "markdown",
   "id": "cba3a198",
   "metadata": {},
   "source": [
    "# variable and list"
   ]
  },
  {
   "cell_type": "code",
   "execution_count": 4,
   "id": "6d2a3f00",
   "metadata": {},
   "outputs": [],
   "source": [
    "mylist = [10,20,30,30,'moh','course']"
   ]
  },
  {
   "cell_type": "code",
   "execution_count": 5,
   "id": "1d3b4513",
   "metadata": {},
   "outputs": [
    {
     "data": {
      "text/plain": [
       "[10, 20, 30, 30, 'moh', 'course']"
      ]
     },
     "execution_count": 5,
     "metadata": {},
     "output_type": "execute_result"
    }
   ],
   "source": [
    "mylist\n"
   ]
  },
  {
   "cell_type": "code",
   "execution_count": 6,
   "id": "489775e3",
   "metadata": {},
   "outputs": [
    {
     "data": {
      "text/plain": [
       "[30, 30, 'moh']"
      ]
     },
     "execution_count": 6,
     "metadata": {},
     "output_type": "execute_result"
    }
   ],
   "source": [
    "mylist[2:5]"
   ]
  },
  {
   "cell_type": "code",
   "execution_count": 7,
   "id": "5aedd805",
   "metadata": {},
   "outputs": [
    {
     "data": {
      "text/plain": [
       "[30, 30]"
      ]
     },
     "execution_count": 7,
     "metadata": {},
     "output_type": "execute_result"
    }
   ],
   "source": [
    "mylist[2:4]"
   ]
  },
  {
   "cell_type": "code",
   "execution_count": 9,
   "id": "4ad024e1",
   "metadata": {},
   "outputs": [
    {
     "data": {
      "text/plain": [
       "[30, 30, 'moh', 'course']"
      ]
     },
     "execution_count": 9,
     "metadata": {},
     "output_type": "execute_result"
    }
   ],
   "source": [
    "mylist[2:]"
   ]
  },
  {
   "cell_type": "code",
   "execution_count": 10,
   "id": "d397b44b",
   "metadata": {},
   "outputs": [],
   "source": [
    "mylist.append(90)"
   ]
  },
  {
   "cell_type": "code",
   "execution_count": 11,
   "id": "f7ef6a66",
   "metadata": {},
   "outputs": [
    {
     "data": {
      "text/plain": [
       "[10, 20, 30, 30, 'moh', 'course', 90]"
      ]
     },
     "execution_count": 11,
     "metadata": {},
     "output_type": "execute_result"
    }
   ],
   "source": [
    "mylist"
   ]
  },
  {
   "cell_type": "code",
   "execution_count": 18,
   "id": "66ff0d13",
   "metadata": {},
   "outputs": [],
   "source": [
    " mylist.insert(4,78)"
   ]
  },
  {
   "cell_type": "code",
   "execution_count": 19,
   "id": "b17d6843",
   "metadata": {},
   "outputs": [
    {
     "data": {
      "text/plain": [
       "[78, 90, 'course', 'moh', 78, 30, 30, 20, 10]"
      ]
     },
     "execution_count": 19,
     "metadata": {},
     "output_type": "execute_result"
    }
   ],
   "source": [
    "mylist"
   ]
  },
  {
   "cell_type": "code",
   "execution_count": 20,
   "id": "370a9ca0",
   "metadata": {},
   "outputs": [],
   "source": [
    "mylist.reverse()"
   ]
  },
  {
   "cell_type": "code",
   "execution_count": 21,
   "id": "4fe4a744",
   "metadata": {},
   "outputs": [
    {
     "data": {
      "text/plain": [
       "[10, 20, 30, 30, 78, 'moh', 'course', 90, 78]"
      ]
     },
     "execution_count": 21,
     "metadata": {},
     "output_type": "execute_result"
    }
   ],
   "source": [
    "mylist"
   ]
  },
  {
   "cell_type": "markdown",
   "id": "a3dcd5d7",
   "metadata": {},
   "source": [
    "# dictionary"
   ]
  },
  {
   "cell_type": "code",
   "execution_count": 22,
   "id": "061b5543",
   "metadata": {},
   "outputs": [],
   "source": [
    "course = {1: 'python',\n",
    "         2: 'data science',\n",
    "         3: 'machine learning'}"
   ]
  },
  {
   "cell_type": "code",
   "execution_count": 23,
   "id": "4faf3e6e",
   "metadata": {},
   "outputs": [
    {
     "data": {
      "text/plain": [
       "{1: 'python', 2: 'data science', 3: 'machine learning'}"
      ]
     },
     "execution_count": 23,
     "metadata": {},
     "output_type": "execute_result"
    }
   ],
   "source": [
    "course"
   ]
  },
  {
   "cell_type": "code",
   "execution_count": 24,
   "id": "cf9065e0",
   "metadata": {},
   "outputs": [
    {
     "data": {
      "text/plain": [
       "'python'"
      ]
     },
     "execution_count": 24,
     "metadata": {},
     "output_type": "execute_result"
    }
   ],
   "source": [
    "course[1]"
   ]
  },
  {
   "cell_type": "code",
   "execution_count": 28,
   "id": "0354c0c5",
   "metadata": {},
   "outputs": [],
   "source": [
    "course[2] ='datatype'"
   ]
  },
  {
   "cell_type": "code",
   "execution_count": 29,
   "id": "88154431",
   "metadata": {},
   "outputs": [
    {
     "data": {
      "text/plain": [
       "{1: 'python', 2: 'datatype', 3: 'machine learning'}"
      ]
     },
     "execution_count": 29,
     "metadata": {},
     "output_type": "execute_result"
    }
   ],
   "source": [
    "course"
   ]
  },
  {
   "cell_type": "code",
   "execution_count": 30,
   "id": "eb5f604e",
   "metadata": {},
   "outputs": [],
   "source": [
    "course['four']= 'programming'"
   ]
  },
  {
   "cell_type": "code",
   "execution_count": 31,
   "id": "c49f3c5d",
   "metadata": {},
   "outputs": [
    {
     "data": {
      "text/plain": [
       "{1: 'python', 2: 'datatype', 3: 'machine learning', 'four': 'programming'}"
      ]
     },
     "execution_count": 31,
     "metadata": {},
     "output_type": "execute_result"
    }
   ],
   "source": [
    "course\n"
   ]
  },
  {
   "cell_type": "markdown",
   "id": "d40be699",
   "metadata": {},
   "source": [
    "# tuple"
   ]
  },
  {
   "cell_type": "code",
   "execution_count": 32,
   "id": "ade28ee6",
   "metadata": {},
   "outputs": [],
   "source": [
    "animals= (10, 10, 20, 30, 40, 'tiger', 'lion' 'goat' 'dog')"
   ]
  },
  {
   "cell_type": "code",
   "execution_count": 34,
   "id": "09211b5a",
   "metadata": {},
   "outputs": [
    {
     "data": {
      "text/plain": [
       "(10, 10, 20, 30, 40, 'tiger', 'liongoatdog')"
      ]
     },
     "execution_count": 34,
     "metadata": {},
     "output_type": "execute_result"
    }
   ],
   "source": [
    "animals"
   ]
  },
  {
   "cell_type": "code",
   "execution_count": 35,
   "id": "92a0f2a8",
   "metadata": {},
   "outputs": [
    {
     "data": {
      "text/plain": [
       "30"
      ]
     },
     "execution_count": 35,
     "metadata": {},
     "output_type": "execute_result"
    }
   ],
   "source": [
    "animals[3]"
   ]
  },
  {
   "cell_type": "markdown",
   "id": "e7130ce7",
   "metadata": {},
   "source": [
    "# set"
   ]
  },
  {
   "cell_type": "code",
   "execution_count": 41,
   "id": "02698e60",
   "metadata": {},
   "outputs": [],
   "source": [
    "myset={10, 10, 20, 30, 40, 'tiger', 'lion', 'goat', 'dog'}"
   ]
  },
  {
   "cell_type": "code",
   "execution_count": 42,
   "id": "fbebf8bc",
   "metadata": {},
   "outputs": [
    {
     "data": {
      "text/plain": [
       "{10, 20, 30, 40, 'dog', 'goat', 'lion', 'tiger'}"
      ]
     },
     "execution_count": 42,
     "metadata": {},
     "output_type": "execute_result"
    }
   ],
   "source": [
    "myset"
   ]
  },
  {
   "cell_type": "markdown",
   "id": "b67a66ad",
   "metadata": {},
   "source": [
    "# range"
   ]
  },
  {
   "cell_type": "code",
   "execution_count": 43,
   "id": "3481c665",
   "metadata": {},
   "outputs": [
    {
     "data": {
      "text/plain": [
       "range(0, 10)"
      ]
     },
     "execution_count": 43,
     "metadata": {},
     "output_type": "execute_result"
    }
   ],
   "source": [
    "range(10)\n"
   ]
  },
  {
   "cell_type": "code",
   "execution_count": 44,
   "id": "06cc6a89",
   "metadata": {},
   "outputs": [
    {
     "data": {
      "text/plain": [
       "[0, 1, 2, 3, 4, 5, 6, 7, 8, 9, 10, 11, 12]"
      ]
     },
     "execution_count": 44,
     "metadata": {},
     "output_type": "execute_result"
    }
   ],
   "source": [
    "list(range(13))"
   ]
  },
  {
   "cell_type": "markdown",
   "id": "029dfc0e",
   "metadata": {},
   "source": [
    "# type conversion"
   ]
  },
  {
   "cell_type": "code",
   "execution_count": 45,
   "id": "f23570d7",
   "metadata": {},
   "outputs": [],
   "source": [
    "x = 10\n"
   ]
  },
  {
   "cell_type": "code",
   "execution_count": 46,
   "id": "29352bae",
   "metadata": {},
   "outputs": [],
   "source": [
    "name = 'moh'\n"
   ]
  },
  {
   "cell_type": "code",
   "execution_count": 47,
   "id": "fe416fbe",
   "metadata": {},
   "outputs": [
    {
     "ename": "TypeError",
     "evalue": "unsupported operand type(s) for +: 'int' and 'str'",
     "output_type": "error",
     "traceback": [
      "\u001b[1;31m---------------------------------------------------------------------------\u001b[0m",
      "\u001b[1;31mTypeError\u001b[0m                                 Traceback (most recent call last)",
      "\u001b[1;32m<ipython-input-47-a57b73ea3f73>\u001b[0m in \u001b[0;36m<module>\u001b[1;34m\u001b[0m\n\u001b[1;32m----> 1\u001b[1;33m \u001b[0mx\u001b[0m \u001b[1;33m+\u001b[0m \u001b[0mname\u001b[0m\u001b[1;33m\u001b[0m\u001b[1;33m\u001b[0m\u001b[0m\n\u001b[0m",
      "\u001b[1;31mTypeError\u001b[0m: unsupported operand type(s) for +: 'int' and 'str'"
     ]
    }
   ],
   "source": [
    "x + name"
   ]
  },
  {
   "cell_type": "code",
   "execution_count": 48,
   "id": "6bfa2fc2",
   "metadata": {},
   "outputs": [
    {
     "data": {
      "text/plain": [
       "'10moh'"
      ]
     },
     "execution_count": 48,
     "metadata": {},
     "output_type": "execute_result"
    }
   ],
   "source": [
    " str(x) + name"
   ]
  },
  {
   "cell_type": "code",
   "execution_count": 51,
   "id": "bfe76121",
   "metadata": {},
   "outputs": [],
   "source": [
    "b= (2,3,5,76,7)\n"
   ]
  },
  {
   "cell_type": "code",
   "execution_count": 52,
   "id": "da1ba576",
   "metadata": {},
   "outputs": [
    {
     "data": {
      "text/plain": [
       "[2, 3, 5, 76, 7]"
      ]
     },
     "execution_count": 52,
     "metadata": {},
     "output_type": "execute_result"
    }
   ],
   "source": [
    "list(b)"
   ]
  },
  {
   "cell_type": "code",
   "execution_count": null,
   "id": "2dd58aae",
   "metadata": {},
   "outputs": [],
   "source": []
  }
 ],
 "metadata": {
  "kernelspec": {
   "display_name": "Python 3",
   "language": "python",
   "name": "python3"
  },
  "language_info": {
   "codemirror_mode": {
    "name": "ipython",
    "version": 3
   },
   "file_extension": ".py",
   "mimetype": "text/x-python",
   "name": "python",
   "nbconvert_exporter": "python",
   "pygments_lexer": "ipython3",
   "version": "3.8.8"
  }
 },
 "nbformat": 4,
 "nbformat_minor": 5
}
