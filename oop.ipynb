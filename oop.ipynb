{
 "cells": [
  {
   "cell_type": "markdown",
   "id": "b0d260ff",
   "metadata": {},
   "source": [
    "# object oriented programming (oop)"
   ]
  },
  {
   "cell_type": "code",
   "execution_count": 1,
   "id": "c32d8a02",
   "metadata": {},
   "outputs": [],
   "source": [
    "class Bank:\n",
    "    building=\"office\"\n",
    "    security=\"kuta guards\"\n",
    "    staffs1=\"bankers\"\n",
    "    staffs2=\"cleaners\"\n",
    "    def create_account(self, name, age, gender,):\n",
    "        self.name=name\n",
    "        self.age=age\n",
    "        self.gender=gender\n",
    "        return f'my name is {self.name} i am {self.age} years old and a {self.gender}'"
   ]
  },
  {
   "cell_type": "code",
   "execution_count": 2,
   "id": "2cf3c9c8",
   "metadata": {},
   "outputs": [],
   "source": [
    "uba=Bank()"
   ]
  },
  {
   "cell_type": "code",
   "execution_count": 3,
   "id": "e735265b",
   "metadata": {},
   "outputs": [
    {
     "name": "stdout",
     "output_type": "stream",
     "text": [
      "enter your namemuhammed\n",
      "enter your age22\n",
      "enter your gendermale\n"
     ]
    }
   ],
   "source": [
    "name=input(\"enter your name\")\n",
    "age=int(input(\"enter your age\"))\n",
    "gender=input(\"enter your gender\")"
   ]
  },
  {
   "cell_type": "code",
   "execution_count": 4,
   "id": "db231d3e",
   "metadata": {},
   "outputs": [
    {
     "name": "stdout",
     "output_type": "stream",
     "text": [
      "my name is muhammed i am 22 years old and a male\n"
     ]
    }
   ],
   "source": [
    "print(uba.create_account(name, age, \"male\"))"
   ]
  },
  {
   "cell_type": "code",
   "execution_count": null,
   "id": "42ab535d",
   "metadata": {},
   "outputs": [],
   "source": [
    "name=input(\"enter your name\")\n",
    "age=int(input(\"enter your age\"))\n",
    "gender=input(\"enter your gender\")\n",
    "age=int(input(\"enter your age\"))\n",
    "gender=input(\"enter your gender\")\n",
    "age=int(input(\"enter your age\"))\n",
    "gender=input(\"enter your gender\")"
   ]
  }
 ],
 "metadata": {
  "kernelspec": {
   "display_name": "Python 3",
   "language": "python",
   "name": "python3"
  },
  "language_info": {
   "codemirror_mode": {
    "name": "ipython",
    "version": 3
   },
   "file_extension": ".py",
   "mimetype": "text/x-python",
   "name": "python",
   "nbconvert_exporter": "python",
   "pygments_lexer": "ipython3",
   "version": "3.8.8"
  }
 },
 "nbformat": 4,
 "nbformat_minor": 5
}
