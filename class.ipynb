{
 "cells": [
  {
   "cell_type": "code",
   "execution_count": 1,
   "id": "0cf5086d",
   "metadata": {},
   "outputs": [
    {
     "data": {
      "text/plain": [
       "7"
      ]
     },
     "execution_count": 1,
     "metadata": {},
     "output_type": "execute_result"
    }
   ],
   "source": [
    "class sum:\n",
    "    def Add(x,y):\n",
    "          return x+y\n",
    "sum.Add(3,4)\n",
    "\n",
    "            "
   ]
  },
  {
   "cell_type": "markdown",
   "id": "2eef7229",
   "metadata": {},
   "source": [
    "# init function"
   ]
  },
  {
   "cell_type": "code",
   "execution_count": 1,
   "id": "f9b16da2",
   "metadata": {},
   "outputs": [
    {
     "name": "stdout",
     "output_type": "stream",
     "text": [
      "7\n"
     ]
    }
   ],
   "source": [
    "class sum:\n",
    "    def __init__(self,x,y):\n",
    "        self.x=x\n",
    "        self.y=y\n",
    "        \n",
    "    def Add(self):\n",
    "       \n",
    "        return self.x+self.y\n",
    "sum_size=sum(3,4)    \n",
    "print(sum_size.Add())"
   ]
  },
  {
   "cell_type": "code",
   "execution_count": 3,
   "id": "e1a8c55e",
   "metadata": {},
   "outputs": [
    {
     "name": "stdout",
     "output_type": "stream",
     "text": [
      "enter first integer7\n",
      "enter second integer5\n",
      "144\n"
     ]
    }
   ],
   "source": [
    "class sum:\n",
    "    def __init__(self,x,y):\n",
    "        self.x=x\n",
    "        self.y=y\n",
    "        \n",
    "    def Add(self):\n",
    "        a=self.x + self.y\n",
    "        return a**2\n",
    "square = sum(int(input(\"enter first integer\")), int(input(\"enter second integer\")))\n",
    "print(square.Add())\n",
    "    \n"
   ]
  },
  {
   "cell_type": "code",
   "execution_count": null,
   "id": "791b01ad",
   "metadata": {},
   "outputs": [],
   "source": []
  }
 ],
 "metadata": {
  "kernelspec": {
   "display_name": "Python 3",
   "language": "python",
   "name": "python3"
  },
  "language_info": {
   "codemirror_mode": {
    "name": "ipython",
    "version": 3
   },
   "file_extension": ".py",
   "mimetype": "text/x-python",
   "name": "python",
   "nbconvert_exporter": "python",
   "pygments_lexer": "ipython3",
   "version": "3.8.8"
  }
 },
 "nbformat": 4,
 "nbformat_minor": 5
}
