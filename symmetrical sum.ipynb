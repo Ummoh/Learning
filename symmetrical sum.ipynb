{
 "cells": [
  {
   "cell_type": "code",
   "execution_count": 6,
   "id": "2489266c",
   "metadata": {},
   "outputs": [
    {
     "data": {
      "text/plain": [
       "([4, 6, 8, 4], 22)"
      ]
     },
     "execution_count": 6,
     "metadata": {},
     "output_type": "execute_result"
    }
   ],
   "source": [
    "def symmetrical_sum(a):\n",
    "\n",
    "    b = []\n",
    "    sum = 0\n",
    "    start = 0\n",
    "    for i in a:\n",
    "        end=len(a)-(start+1)\n",
    "        if a[start]==a[end]:\n",
    "            b=a[start:(end+1)]\n",
    "            for i in b:\n",
    "                sum+=i\n",
    "            break\n",
    "        start +=1\n",
    "    return (b,sum)             \n",
    "symmetrical_sum([2,4,6,8,4,1])\n",
    "                \n",
    "            \n",
    "            \n",
    "   "
   ]
  },
  {
   "cell_type": "code",
   "execution_count": null,
   "id": "fbf2546b",
   "metadata": {},
   "outputs": [],
   "source": []
  }
 ],
 "metadata": {
  "kernelspec": {
   "display_name": "Python 3",
   "language": "python",
   "name": "python3"
  },
  "language_info": {
   "codemirror_mode": {
    "name": "ipython",
    "version": 3
   },
   "file_extension": ".py",
   "mimetype": "text/x-python",
   "name": "python",
   "nbconvert_exporter": "python",
   "pygments_lexer": "ipython3",
   "version": "3.8.8"
  }
 },
 "nbformat": 4,
 "nbformat_minor": 5
}
