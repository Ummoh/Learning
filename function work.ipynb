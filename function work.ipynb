{
 "cells": [
  {
   "cell_type": "markdown",
   "id": "7d233171",
   "metadata": {},
   "source": [
    "# functions"
   ]
  },
  {
   "cell_type": "markdown",
   "id": "9209590c",
   "metadata": {},
   "source": [
    "# arithmetic fuctions"
   ]
  },
  {
   "cell_type": "code",
   "execution_count": 5,
   "id": "313bb693",
   "metadata": {},
   "outputs": [
    {
     "data": {
      "text/plain": [
       "18"
      ]
     },
     "execution_count": 5,
     "metadata": {},
     "output_type": "execute_result"
    }
   ],
   "source": [
    "def mal(a,b):\n",
    "    c=a*b\n",
    "    return c\n",
    "mal(3,6)"
   ]
  },
  {
   "cell_type": "code",
   "execution_count": 7,
   "id": "48d5b656",
   "metadata": {},
   "outputs": [
    {
     "data": {
      "text/plain": [
       "9"
      ]
     },
     "execution_count": 7,
     "metadata": {},
     "output_type": "execute_result"
    }
   ],
   "source": [
    "\n",
    "def add(a,b):\n",
    "    c=a+b\n",
    "    return c\n",
    "add(3,6)"
   ]
  },
  {
   "cell_type": "code",
   "execution_count": 12,
   "id": "0c82b3d5",
   "metadata": {},
   "outputs": [
    {
     "data": {
      "text/plain": [
       "4"
      ]
     },
     "execution_count": 12,
     "metadata": {},
     "output_type": "execute_result"
    }
   ],
   "source": [
    "def sub(a,b):\n",
    "    c=a-b\n",
    "    return c\n",
    "sub(10,6)"
   ]
  },
  {
   "cell_type": "code",
   "execution_count": 11,
   "id": "1e776243",
   "metadata": {},
   "outputs": [
    {
     "data": {
      "text/plain": [
       "4.0"
      ]
     },
     "execution_count": 11,
     "metadata": {},
     "output_type": "execute_result"
    }
   ],
   "source": [
    "def div(a,b):\n",
    "    c=a/b\n",
    "    return c\n",
    "div(20,5)"
   ]
  },
  {
   "cell_type": "markdown",
   "id": "87302a29",
   "metadata": {},
   "source": [
    "# double function"
   ]
  },
  {
   "cell_type": "code",
   "execution_count": 17,
   "id": "ec4a339f",
   "metadata": {},
   "outputs": [
    {
     "data": {
      "text/plain": [
       "25"
      ]
     },
     "execution_count": 17,
     "metadata": {},
     "output_type": "execute_result"
    }
   ],
   "source": [
    "def add(a,b):\n",
    "    c=(a+b)**2\n",
    "\n",
    "    return c\n",
    "add(2,3)"
   ]
  },
  {
   "cell_type": "code",
   "execution_count": 18,
   "id": "a85e125f",
   "metadata": {},
   "outputs": [
    {
     "data": {
      "text/plain": [
       "25"
      ]
     },
     "execution_count": 18,
     "metadata": {},
     "output_type": "execute_result"
    }
   ],
   "source": [
    "def add(a,b):\n",
    "    c=a+b\n",
    "    d=c**2\n",
    "\n",
    "    return d\n",
    "add(2,3)"
   ]
  },
  {
   "cell_type": "markdown",
   "id": "1a9d2994",
   "metadata": {},
   "source": [
    "# empty function"
   ]
  },
  {
   "cell_type": "code",
   "execution_count": 25,
   "id": "b3af9185",
   "metadata": {},
   "outputs": [
    {
     "data": {
      "text/plain": [
       "30"
      ]
     },
     "execution_count": 25,
     "metadata": {},
     "output_type": "execute_result"
    }
   ],
   "source": [
    "def mal():\n",
    "    c=5*6\n",
    "    return c\n",
    "mal()"
   ]
  },
  {
   "cell_type": "markdown",
   "id": "65d73b9b",
   "metadata": {},
   "source": [
    "# input statement"
   ]
  },
  {
   "cell_type": "code",
   "execution_count": null,
   "id": "8270cb06",
   "metadata": {},
   "outputs": [],
   "source": [
    "def age():\n",
    "    age=int(input(\"enter your age\"))\n",
    "    if  age >= 18 and age <=39:\n",
    "        print(\"you are matured\")\n",
    "    elif age >= 40:\n",
    "        print(\"you are an adult\")\n",
    "    else:\n",
    "        print(\"you are a child\")\n",
    "age()\n",
    "        "
   ]
  }
 ],
 "metadata": {
  "kernelspec": {
   "display_name": "Python 3",
   "language": "python",
   "name": "python3"
  },
  "language_info": {
   "codemirror_mode": {
    "name": "ipython",
    "version": 3
   },
   "file_extension": ".py",
   "mimetype": "text/x-python",
   "name": "python",
   "nbconvert_exporter": "python",
   "pygments_lexer": "ipython3",
   "version": "3.8.8"
  }
 },
 "nbformat": 4,
 "nbformat_minor": 5
}
