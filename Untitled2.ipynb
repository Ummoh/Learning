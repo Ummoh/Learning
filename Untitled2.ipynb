{
 "cells": [
  {
   "cell_type": "markdown",
   "id": "8cbc6fb8",
   "metadata": {},
   "source": [
    "# import random"
   ]
  },
  {
   "cell_type": "code",
   "execution_count": null,
   "id": "04424cd5",
   "metadata": {},
   "outputs": [],
   "source": [
    "def club(premiership,laliga,seriaA)\n"
   ]
  }
 ],
 "metadata": {
  "kernelspec": {
   "display_name": "Python 3",
   "language": "python",
   "name": "python3"
  },
  "language_info": {
   "codemirror_mode": {
    "name": "ipython",
    "version": 3
   },
   "file_extension": ".py",
   "mimetype": "text/x-python",
   "name": "python",
   "nbconvert_exporter": "python",
   "pygments_lexer": "ipython3",
   "version": "3.8.8"
  }
 },
 "nbformat": 4,
 "nbformat_minor": 5
}
