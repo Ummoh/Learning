{
 "cells": [
  {
   "cell_type": "markdown",
   "id": "fd368482",
   "metadata": {},
   "source": [
    "# moh"
   ]
  },
  {
   "cell_type": "code",
   "execution_count": 1,
   "id": "a60a7ee2",
   "metadata": {},
   "outputs": [],
   "source": [
    "def school(courses,grades):\n",
    "    courses_list = courses.split(',')\n",
    "    grades_lists = grades.split(',')\n",
    "    int_grade_list = []\n",
    "    for i in grade_lists :\n",
    "        int_grade_list.append(float(i))\n",
    "    course_dict = {key : values for key, values in zip(tuple(course_list), tuple(int_grade_list))}\n",
    "    illegal_courses = []\n",
    "    allowed_courses = []\n",
    "    allowed_grades = []\n",
    "    total_grade = 0\n",
    "    for k, v in course_dict.items() :\n",
    "        if k == 'maths' :\n",
    "            illegal_course.append(k)\n",
    "        #print(f'Item {illegal_Item} is not allowed')\n",
    "        else :\n",
    "            allowed_couses.append(k)\n",
    "            allowed_grades.append(v)\n",
    "            total_grades += v\n",
    "            if total_grades <= 45:\n",
    "                print(\"grade is too low, you have carryover\")\n",
    "    allowed_courses_dict = {k : v for k, v in zip(tuple(allowed_courses),tuple(allowed_grades))}\n",
    "    print(f'Item {illegal_courses} is not allowed')\n",
    "    print(f'Total grade is {total_weight}')\n",
    "    return allowed_courses_dict"
   ]
  },
  {
   "cell_type": "code",
   "execution_count": 2,
   "id": "fff75d48",
   "metadata": {},
   "outputs": [
    {
     "name": "stdout",
     "output_type": "stream",
     "text": [
      "enter the number of courses 4\n"
     ]
    }
   ],
   "source": [
    "amount_of_courses = int(input(\"enter the number of courses \"))"
   ]
  },
  {
   "cell_type": "code",
   "execution_count": 3,
   "id": "83a22de3",
   "metadata": {},
   "outputs": [
    {
     "name": "stdout",
     "output_type": "stream",
     "text": [
      "input 4 courses seperated with \",\"  maths,physics,biology,chemistry\n"
     ]
    }
   ],
   "source": [
    "courses = input(f'input {amount_of_courses} courses seperated with \",\"  ').lower()"
   ]
  },
  {
   "cell_type": "code",
   "execution_count": 4,
   "id": "aeea871b",
   "metadata": {},
   "outputs": [
    {
     "name": "stdout",
     "output_type": "stream",
     "text": [
      "input 4 courses seperated with \";\"  12,10,10,12\n"
     ]
    }
   ],
   "source": [
    "grades = input(f'input {amount_of_courses} courses seperated with \";\"  ')"
   ]
  },
  {
   "cell_type": "code",
   "execution_count": 5,
   "id": "b09055c9",
   "metadata": {},
   "outputs": [
    {
     "ename": "NameError",
     "evalue": "name 'grade_lists' is not defined",
     "output_type": "error",
     "traceback": [
      "\u001b[1;31m---------------------------------------------------------------------------\u001b[0m",
      "\u001b[1;31mNameError\u001b[0m                                 Traceback (most recent call last)",
      "\u001b[1;32m<ipython-input-5-6147d4b4a6f1>\u001b[0m in \u001b[0;36m<module>\u001b[1;34m\u001b[0m\n\u001b[1;32m----> 1\u001b[1;33m \u001b[0mschool\u001b[0m\u001b[1;33m(\u001b[0m\u001b[0mcourses\u001b[0m\u001b[1;33m,\u001b[0m\u001b[0mgrades\u001b[0m\u001b[1;33m)\u001b[0m\u001b[1;33m\u001b[0m\u001b[1;33m\u001b[0m\u001b[0m\n\u001b[0m",
      "\u001b[1;32m<ipython-input-1-720042871072>\u001b[0m in \u001b[0;36mschool\u001b[1;34m(courses, grades)\u001b[0m\n\u001b[0;32m      3\u001b[0m     \u001b[0mgrades_lists\u001b[0m \u001b[1;33m=\u001b[0m \u001b[0mgrades\u001b[0m\u001b[1;33m.\u001b[0m\u001b[0msplit\u001b[0m\u001b[1;33m(\u001b[0m\u001b[1;34m','\u001b[0m\u001b[1;33m)\u001b[0m\u001b[1;33m\u001b[0m\u001b[1;33m\u001b[0m\u001b[0m\n\u001b[0;32m      4\u001b[0m     \u001b[0mint_grade_list\u001b[0m \u001b[1;33m=\u001b[0m \u001b[1;33m[\u001b[0m\u001b[1;33m]\u001b[0m\u001b[1;33m\u001b[0m\u001b[1;33m\u001b[0m\u001b[0m\n\u001b[1;32m----> 5\u001b[1;33m     \u001b[1;32mfor\u001b[0m \u001b[0mi\u001b[0m \u001b[1;32min\u001b[0m \u001b[0mgrade_lists\u001b[0m \u001b[1;33m:\u001b[0m\u001b[1;33m\u001b[0m\u001b[1;33m\u001b[0m\u001b[0m\n\u001b[0m\u001b[0;32m      6\u001b[0m         \u001b[0mint_grade_list\u001b[0m\u001b[1;33m.\u001b[0m\u001b[0mappend\u001b[0m\u001b[1;33m(\u001b[0m\u001b[0mfloat\u001b[0m\u001b[1;33m(\u001b[0m\u001b[0mi\u001b[0m\u001b[1;33m)\u001b[0m\u001b[1;33m)\u001b[0m\u001b[1;33m\u001b[0m\u001b[1;33m\u001b[0m\u001b[0m\n\u001b[0;32m      7\u001b[0m     \u001b[0mcourse_dict\u001b[0m \u001b[1;33m=\u001b[0m \u001b[1;33m{\u001b[0m\u001b[0mkey\u001b[0m \u001b[1;33m:\u001b[0m \u001b[0mvalues\u001b[0m \u001b[1;32mfor\u001b[0m \u001b[0mkey\u001b[0m\u001b[1;33m,\u001b[0m \u001b[0mvalues\u001b[0m \u001b[1;32min\u001b[0m \u001b[0mzip\u001b[0m\u001b[1;33m(\u001b[0m\u001b[0mtuple\u001b[0m\u001b[1;33m(\u001b[0m\u001b[0mcourse_list\u001b[0m\u001b[1;33m)\u001b[0m\u001b[1;33m,\u001b[0m \u001b[0mtuple\u001b[0m\u001b[1;33m(\u001b[0m\u001b[0mint_grade_list\u001b[0m\u001b[1;33m)\u001b[0m\u001b[1;33m)\u001b[0m\u001b[1;33m}\u001b[0m\u001b[1;33m\u001b[0m\u001b[1;33m\u001b[0m\u001b[0m\n",
      "\u001b[1;31mNameError\u001b[0m: name 'grade_lists' is not defined"
     ]
    }
   ],
   "source": [
    "school(courses,grades)"
   ]
  },
  {
   "cell_type": "code",
   "execution_count": null,
   "id": "03013142",
   "metadata": {},
   "outputs": [],
   "source": []
  }
 ],
 "metadata": {
  "kernelspec": {
   "display_name": "Python 3",
   "language": "python",
   "name": "python3"
  },
  "language_info": {
   "codemirror_mode": {
    "name": "ipython",
    "version": 3
   },
   "file_extension": ".py",
   "mimetype": "text/x-python",
   "name": "python",
   "nbconvert_exporter": "python",
   "pygments_lexer": "ipython3",
   "version": "3.8.8"
  }
 },
 "nbformat": 4,
 "nbformat_minor": 5
}
